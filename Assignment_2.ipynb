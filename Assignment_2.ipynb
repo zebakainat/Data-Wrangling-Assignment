{
 "cells": [
  {
   "cell_type": "markdown",
   "id": "988821ba",
   "metadata": {},
   "source": [
    "Import the necessary libraries"
   ]
  },
  {
   "cell_type": "code",
   "execution_count": 1,
   "id": "e93fee23",
   "metadata": {},
   "outputs": [],
   "source": [
    "import pandas as pd\n",
    "import numpy as np\n",
    "import matplotlib\n",
    "import matplotlib.pyplot as plt\n",
    "import seaborn as sns\n",
    "%matplotlib inline\n",
    "import warnings\n",
    "warnings.filterwarnings(\"ignore\")\n",
    "from IPython.display import Image"
   ]
  },
  {
   "cell_type": "markdown",
   "id": "0c01fdc8",
   "metadata": {},
   "source": [
    "Import the dataset from this(https://raw.githubusercontent.com/justmarkham/DAT8/master/data/u.user).\n",
    "Use sep= \"|\" while reading the data"
   ]
  },
  {
   "cell_type": "code",
   "execution_count": 3,
   "id": "5d858450",
   "metadata": {},
   "outputs": [],
   "source": [
    "url = 'https://raw.githubusercontent.com/justmarkham/DAT8/master/data/u.user'"
   ]
  },
  {
   "cell_type": "markdown",
   "id": "3f5a978f",
   "metadata": {},
   "source": [
    "Assign it to a variable called users and use the 'user_id' as index"
   ]
  },
  {
   "cell_type": "code",
   "execution_count": 4,
   "id": "1a43cf0c",
   "metadata": {},
   "outputs": [
    {
     "data": {
      "text/html": [
       "<div>\n",
       "<style scoped>\n",
       "    .dataframe tbody tr th:only-of-type {\n",
       "        vertical-align: middle;\n",
       "    }\n",
       "\n",
       "    .dataframe tbody tr th {\n",
       "        vertical-align: top;\n",
       "    }\n",
       "\n",
       "    .dataframe thead th {\n",
       "        text-align: right;\n",
       "    }\n",
       "</style>\n",
       "<table border=\"1\" class=\"dataframe\">\n",
       "  <thead>\n",
       "    <tr style=\"text-align: right;\">\n",
       "      <th></th>\n",
       "    </tr>\n",
       "    <tr>\n",
       "      <th>user_id|age|gender|occupation|zip_code</th>\n",
       "    </tr>\n",
       "  </thead>\n",
       "  <tbody>\n",
       "    <tr>\n",
       "      <th>1|24|M|technician|85711</th>\n",
       "    </tr>\n",
       "    <tr>\n",
       "      <th>2|53|F|other|94043</th>\n",
       "    </tr>\n",
       "    <tr>\n",
       "      <th>3|23|M|writer|32067</th>\n",
       "    </tr>\n",
       "    <tr>\n",
       "      <th>4|24|M|technician|43537</th>\n",
       "    </tr>\n",
       "    <tr>\n",
       "      <th>5|33|F|other|15213</th>\n",
       "    </tr>\n",
       "    <tr>\n",
       "      <th>...</th>\n",
       "    </tr>\n",
       "    <tr>\n",
       "      <th>939|26|F|student|33319</th>\n",
       "    </tr>\n",
       "    <tr>\n",
       "      <th>940|32|M|administrator|02215</th>\n",
       "    </tr>\n",
       "    <tr>\n",
       "      <th>941|20|M|student|97229</th>\n",
       "    </tr>\n",
       "    <tr>\n",
       "      <th>942|48|F|librarian|78209</th>\n",
       "    </tr>\n",
       "    <tr>\n",
       "      <th>943|22|M|student|77841</th>\n",
       "    </tr>\n",
       "  </tbody>\n",
       "</table>\n",
       "<p>943 rows × 0 columns</p>\n",
       "</div>"
      ],
      "text/plain": [
       "Empty DataFrame\n",
       "Columns: []\n",
       "Index: [1|24|M|technician|85711, 2|53|F|other|94043, 3|23|M|writer|32067, 4|24|M|technician|43537, 5|33|F|other|15213, 6|42|M|executive|98101, 7|57|M|administrator|91344, 8|36|M|administrator|05201, 9|29|M|student|01002, 10|53|M|lawyer|90703, 11|39|F|other|30329, 12|28|F|other|06405, 13|47|M|educator|29206, 14|45|M|scientist|55106, 15|49|F|educator|97301, 16|21|M|entertainment|10309, 17|30|M|programmer|06355, 18|35|F|other|37212, 19|40|M|librarian|02138, 20|42|F|homemaker|95660, 21|26|M|writer|30068, 22|25|M|writer|40206, 23|30|F|artist|48197, 24|21|F|artist|94533, 25|39|M|engineer|55107, 26|49|M|engineer|21044, 27|40|F|librarian|30030, 28|32|M|writer|55369, 29|41|M|programmer|94043, 30|7|M|student|55436, 31|24|M|artist|10003, 32|28|F|student|78741, 33|23|M|student|27510, 34|38|F|administrator|42141, 35|20|F|homemaker|42459, 36|19|F|student|93117, 37|23|M|student|55105, 38|28|F|other|54467, 39|41|M|entertainment|01040, 40|38|M|scientist|27514, 41|33|M|engineer|80525, 42|30|M|administrator|17870, 43|29|F|librarian|20854, 44|26|M|technician|46260, 45|29|M|programmer|50233, 46|27|F|marketing|46538, 47|53|M|marketing|07102, 48|45|M|administrator|12550, 49|23|F|student|76111, 50|21|M|writer|52245, 51|28|M|educator|16509, 52|18|F|student|55105, 53|26|M|programmer|55414, 54|22|M|executive|66315, 55|37|M|programmer|01331, 56|25|M|librarian|46260, 57|16|M|none|84010, 58|27|M|programmer|52246, 59|49|M|educator|08403, 60|50|M|healthcare|06472, 61|36|M|engineer|30040, 62|27|F|administrator|97214, 63|31|M|marketing|75240, 64|32|M|educator|43202, 65|51|F|educator|48118, 66|23|M|student|80521, 67|17|M|student|60402, 68|19|M|student|22904, 69|24|M|engineer|55337, 70|27|M|engineer|60067, 71|39|M|scientist|98034, 72|48|F|administrator|73034, 73|24|M|student|41850, 74|39|M|scientist|T8H1N, 75|24|M|entertainment|08816, 76|20|M|student|02215, 77|30|M|technician|29379, 78|26|M|administrator|61801, 79|39|F|administrator|03755, 80|34|F|administrator|52241, 81|21|M|student|21218, 82|50|M|programmer|22902, 83|40|M|other|44133, 84|32|M|executive|55369, 85|51|M|educator|20003, 86|26|M|administrator|46005, 87|47|M|administrator|89503, 88|49|F|librarian|11701, 89|43|F|administrator|68106, 90|60|M|educator|78155, 91|55|M|marketing|01913, 92|32|M|entertainment|80525, 93|48|M|executive|23112, 94|26|M|student|71457, 95|31|M|administrator|10707, 96|25|F|artist|75206, 97|43|M|artist|98006, 98|49|F|executive|90291, 99|20|M|student|63129, 100|36|M|executive|90254, ...]\n",
       "\n",
       "[943 rows x 0 columns]"
      ]
     },
     "execution_count": 4,
     "metadata": {},
     "output_type": "execute_result"
    }
   ],
   "source": [
    "users = pd.read_csv(url,index_col=0)\n",
    "users"
   ]
  },
  {
   "cell_type": "markdown",
   "id": "0c35cb93",
   "metadata": {},
   "source": [
    "See the first 10 and last 10 entries"
   ]
  },
  {
   "cell_type": "code",
   "execution_count": 40,
   "id": "3a45e300",
   "metadata": {},
   "outputs": [
    {
     "name": "stdout",
     "output_type": "stream",
     "text": [
      "--------First 10 entries -------\n",
      "         age gender     occupation zip_code\n",
      "user_id                                    \n",
      "1         24      M     technician    85711\n",
      "2         53      F          other    94043\n",
      "3         23      M         writer    32067\n",
      "4         24      M     technician    43537\n",
      "5         33      F          other    15213\n",
      "6         42      M      executive    98101\n",
      "7         57      M  administrator    91344\n",
      "8         36      M  administrator    05201\n",
      "9         29      M        student    01002\n",
      "10        53      M         lawyer    90703\n",
      "--------Last 10 entries -------\n",
      "         age gender     occupation zip_code\n",
      "user_id                                    \n",
      "934       61      M       engineer    22902\n",
      "935       42      M         doctor    66221\n",
      "936       24      M          other    32789\n",
      "937       48      M       educator    98072\n",
      "938       38      F     technician    55038\n",
      "939       26      F        student    33319\n",
      "940       32      M  administrator    02215\n",
      "941       20      M        student    97229\n",
      "942       48      F      librarian    78209\n",
      "943       22      M        student    77841\n"
     ]
    }
   ],
   "source": [
    "users = pd.read_csv(url,index_col=0,sep = \"|\")\n",
    "print(\"--------First 10 entries -------\")\n",
    "print(users.head(10))\n",
    "print(\"--------Last 10 entries -------\")\n",
    "print(users.tail(10))\n"
   ]
  },
  {
   "cell_type": "markdown",
   "id": "04c952dc",
   "metadata": {},
   "source": [
    "What is the number of observations in the dataset?"
   ]
  },
  {
   "cell_type": "code",
   "execution_count": 6,
   "id": "5c6f3bef",
   "metadata": {},
   "outputs": [
    {
     "name": "stdout",
     "output_type": "stream",
     "text": [
      "Number of Observations : 943\n"
     ]
    }
   ],
   "source": [
    "print(\"Number of Observations :\",users.shape[0])"
   ]
  },
  {
   "cell_type": "markdown",
   "id": "ef353b2d",
   "metadata": {},
   "source": [
    "What is the number of columns in the dataset?"
   ]
  },
  {
   "cell_type": "code",
   "execution_count": 7,
   "id": "c32982cf",
   "metadata": {},
   "outputs": [
    {
     "name": "stdout",
     "output_type": "stream",
     "text": [
      "Number of Columns : 4\n"
     ]
    }
   ],
   "source": [
    "print(\"Number of Columns :\",users.shape[1])"
   ]
  },
  {
   "cell_type": "markdown",
   "id": "9e14ff95",
   "metadata": {},
   "source": [
    "Print the name of all the columns."
   ]
  },
  {
   "cell_type": "code",
   "execution_count": 8,
   "id": "c84c451f",
   "metadata": {},
   "outputs": [
    {
     "name": "stdout",
     "output_type": "stream",
     "text": [
      "Index(['age', 'gender', 'occupation', 'zip_code'], dtype='object')\n"
     ]
    }
   ],
   "source": [
    "print(users.columns)"
   ]
  },
  {
   "cell_type": "markdown",
   "id": "35c8b1d6",
   "metadata": {},
   "source": [
    "How is the dataset indexed?"
   ]
  },
  {
   "cell_type": "code",
   "execution_count": 9,
   "id": "13a15814",
   "metadata": {},
   "outputs": [
    {
     "name": "stdout",
     "output_type": "stream",
     "text": [
      "Int64Index([  1,   2,   3,   4,   5,   6,   7,   8,   9,  10,\n",
      "            ...\n",
      "            934, 935, 936, 937, 938, 939, 940, 941, 942, 943],\n",
      "           dtype='int64', name='user_id', length=943)\n"
     ]
    }
   ],
   "source": [
    "print(users.index)"
   ]
  },
  {
   "cell_type": "markdown",
   "id": "81332ec0",
   "metadata": {},
   "source": [
    "What is the data type of each column?"
   ]
  },
  {
   "cell_type": "code",
   "execution_count": 12,
   "id": "21367b0f",
   "metadata": {},
   "outputs": [
    {
     "name": "stdout",
     "output_type": "stream",
     "text": [
      "age            int64\n",
      "gender        object\n",
      "occupation    object\n",
      "zip_code      object\n",
      "dtype: object\n"
     ]
    }
   ],
   "source": [
    "print(users.dtypes)"
   ]
  },
  {
   "cell_type": "markdown",
   "id": "fee1d268",
   "metadata": {},
   "source": [
    "Print only the occupation column"
   ]
  },
  {
   "cell_type": "code",
   "execution_count": 31,
   "id": "a50e7a3f",
   "metadata": {},
   "outputs": [
    {
     "name": "stdout",
     "output_type": "stream",
     "text": [
      "user_id\n",
      "1         technician\n",
      "2              other\n",
      "3             writer\n",
      "4         technician\n",
      "5              other\n",
      "           ...      \n",
      "939          student\n",
      "940    administrator\n",
      "941          student\n",
      "942        librarian\n",
      "943          student\n",
      "Name: occupation, Length: 943, dtype: object\n"
     ]
    }
   ],
   "source": [
    "\n",
    "print(users['occupation'])"
   ]
  },
  {
   "cell_type": "markdown",
   "id": "f4989c9a",
   "metadata": {},
   "source": [
    "How many different occupations are in this dataset?"
   ]
  },
  {
   "cell_type": "code",
   "execution_count": 32,
   "id": "c6d14269",
   "metadata": {},
   "outputs": [
    {
     "name": "stdout",
     "output_type": "stream",
     "text": [
      "21\n"
     ]
    }
   ],
   "source": [
    "print(users['occupation'].nunique())"
   ]
  },
  {
   "cell_type": "markdown",
   "id": "4eb05b8d",
   "metadata": {},
   "source": [
    "\n",
    "What is the most frequent occupation?"
   ]
  },
  {
   "cell_type": "code",
   "execution_count": 35,
   "id": "784671e2",
   "metadata": {},
   "outputs": [],
   "source": [
    "df = pd.DataFrame(users)\n"
   ]
  },
  {
   "cell_type": "code",
   "execution_count": 36,
   "id": "a0213cf0",
   "metadata": {},
   "outputs": [
    {
     "data": {
      "text/plain": [
       "student    196\n",
       "Name: occupation, dtype: int64"
      ]
     },
     "execution_count": 36,
     "metadata": {},
     "output_type": "execute_result"
    }
   ],
   "source": [
    "df['occupation'].value_counts(ascending=False).head(1)"
   ]
  },
  {
   "cell_type": "markdown",
   "id": "d693d6f0",
   "metadata": {},
   "source": [
    "DataFrame Info.\n"
   ]
  },
  {
   "cell_type": "code",
   "execution_count": 43,
   "id": "b5d34c59",
   "metadata": {},
   "outputs": [
    {
     "name": "stdout",
     "output_type": "stream",
     "text": [
      "<class 'pandas.core.frame.DataFrame'>\n",
      "Int64Index: 943 entries, 1 to 943\n",
      "Data columns (total 4 columns):\n",
      " #   Column      Non-Null Count  Dtype \n",
      "---  ------      --------------  ----- \n",
      " 0   age         943 non-null    int64 \n",
      " 1   gender      943 non-null    object\n",
      " 2   occupation  943 non-null    object\n",
      " 3   zip_code    943 non-null    object\n",
      "dtypes: int64(1), object(3)\n",
      "memory usage: 36.8+ KB\n"
     ]
    }
   ],
   "source": [
    "users.info()\n"
   ]
  },
  {
   "cell_type": "markdown",
   "id": "d3b28729",
   "metadata": {},
   "source": [
    "Summarize only the occupation column"
   ]
  },
  {
   "cell_type": "code",
   "execution_count": 38,
   "id": "8c1dcd8f",
   "metadata": {},
   "outputs": [
    {
     "data": {
      "text/plain": [
       "student          196\n",
       "other            105\n",
       "educator          95\n",
       "administrator     79\n",
       "engineer          67\n",
       "programmer        66\n",
       "librarian         51\n",
       "writer            45\n",
       "executive         32\n",
       "scientist         31\n",
       "artist            28\n",
       "technician        27\n",
       "marketing         26\n",
       "entertainment     18\n",
       "healthcare        16\n",
       "retired           14\n",
       "lawyer            12\n",
       "salesman          12\n",
       "none               9\n",
       "doctor             7\n",
       "homemaker          7\n",
       "Name: occupation, dtype: int64"
      ]
     },
     "execution_count": 38,
     "metadata": {},
     "output_type": "execute_result"
    }
   ],
   "source": [
    "users['occupation'].value_counts()"
   ]
  },
  {
   "cell_type": "markdown",
   "id": "aee24f2f",
   "metadata": {},
   "source": [
    "What is the mean age of users?"
   ]
  },
  {
   "cell_type": "code",
   "execution_count": 41,
   "id": "193f87f7",
   "metadata": {},
   "outputs": [
    {
     "data": {
      "text/plain": [
       "34.05196182396607"
      ]
     },
     "execution_count": 41,
     "metadata": {},
     "output_type": "execute_result"
    }
   ],
   "source": [
    "users['age'].mean()"
   ]
  },
  {
   "cell_type": "markdown",
   "id": "1b819c92",
   "metadata": {},
   "source": [
    "What is the age with least occurrence?"
   ]
  },
  {
   "cell_type": "code",
   "execution_count": 42,
   "id": "b532c720",
   "metadata": {},
   "outputs": [
    {
     "data": {
      "text/plain": [
       "7"
      ]
     },
     "execution_count": 42,
     "metadata": {},
     "output_type": "execute_result"
    }
   ],
   "source": [
    "users['age'].min()"
   ]
  },
  {
   "cell_type": "markdown",
   "id": "922de5b6",
   "metadata": {},
   "source": [
    "Describe all the columns"
   ]
  },
  {
   "cell_type": "code",
   "execution_count": 48,
   "id": "7fb3ab84",
   "metadata": {},
   "outputs": [
    {
     "data": {
      "text/html": [
       "<div>\n",
       "<style scoped>\n",
       "    .dataframe tbody tr th:only-of-type {\n",
       "        vertical-align: middle;\n",
       "    }\n",
       "\n",
       "    .dataframe tbody tr th {\n",
       "        vertical-align: top;\n",
       "    }\n",
       "\n",
       "    .dataframe thead th {\n",
       "        text-align: right;\n",
       "    }\n",
       "</style>\n",
       "<table border=\"1\" class=\"dataframe\">\n",
       "  <thead>\n",
       "    <tr style=\"text-align: right;\">\n",
       "      <th></th>\n",
       "      <th>age</th>\n",
       "      <th>gender</th>\n",
       "      <th>occupation</th>\n",
       "      <th>zip_code</th>\n",
       "    </tr>\n",
       "  </thead>\n",
       "  <tbody>\n",
       "    <tr>\n",
       "      <th>count</th>\n",
       "      <td>943.000000</td>\n",
       "      <td>943</td>\n",
       "      <td>943</td>\n",
       "      <td>943</td>\n",
       "    </tr>\n",
       "    <tr>\n",
       "      <th>unique</th>\n",
       "      <td>NaN</td>\n",
       "      <td>2</td>\n",
       "      <td>21</td>\n",
       "      <td>795</td>\n",
       "    </tr>\n",
       "    <tr>\n",
       "      <th>top</th>\n",
       "      <td>NaN</td>\n",
       "      <td>M</td>\n",
       "      <td>student</td>\n",
       "      <td>55414</td>\n",
       "    </tr>\n",
       "    <tr>\n",
       "      <th>freq</th>\n",
       "      <td>NaN</td>\n",
       "      <td>670</td>\n",
       "      <td>196</td>\n",
       "      <td>9</td>\n",
       "    </tr>\n",
       "    <tr>\n",
       "      <th>mean</th>\n",
       "      <td>34.051962</td>\n",
       "      <td>NaN</td>\n",
       "      <td>NaN</td>\n",
       "      <td>NaN</td>\n",
       "    </tr>\n",
       "    <tr>\n",
       "      <th>std</th>\n",
       "      <td>12.192740</td>\n",
       "      <td>NaN</td>\n",
       "      <td>NaN</td>\n",
       "      <td>NaN</td>\n",
       "    </tr>\n",
       "    <tr>\n",
       "      <th>min</th>\n",
       "      <td>7.000000</td>\n",
       "      <td>NaN</td>\n",
       "      <td>NaN</td>\n",
       "      <td>NaN</td>\n",
       "    </tr>\n",
       "    <tr>\n",
       "      <th>25%</th>\n",
       "      <td>25.000000</td>\n",
       "      <td>NaN</td>\n",
       "      <td>NaN</td>\n",
       "      <td>NaN</td>\n",
       "    </tr>\n",
       "    <tr>\n",
       "      <th>50%</th>\n",
       "      <td>31.000000</td>\n",
       "      <td>NaN</td>\n",
       "      <td>NaN</td>\n",
       "      <td>NaN</td>\n",
       "    </tr>\n",
       "    <tr>\n",
       "      <th>75%</th>\n",
       "      <td>43.000000</td>\n",
       "      <td>NaN</td>\n",
       "      <td>NaN</td>\n",
       "      <td>NaN</td>\n",
       "    </tr>\n",
       "    <tr>\n",
       "      <th>max</th>\n",
       "      <td>73.000000</td>\n",
       "      <td>NaN</td>\n",
       "      <td>NaN</td>\n",
       "      <td>NaN</td>\n",
       "    </tr>\n",
       "  </tbody>\n",
       "</table>\n",
       "</div>"
      ],
      "text/plain": [
       "               age gender occupation zip_code\n",
       "count   943.000000    943        943      943\n",
       "unique         NaN      2         21      795\n",
       "top            NaN      M    student    55414\n",
       "freq           NaN    670        196        9\n",
       "mean     34.051962    NaN        NaN      NaN\n",
       "std      12.192740    NaN        NaN      NaN\n",
       "min       7.000000    NaN        NaN      NaN\n",
       "25%      25.000000    NaN        NaN      NaN\n",
       "50%      31.000000    NaN        NaN      NaN\n",
       "75%      43.000000    NaN        NaN      NaN\n",
       "max      73.000000    NaN        NaN      NaN"
      ]
     },
     "execution_count": 48,
     "metadata": {},
     "output_type": "execute_result"
    }
   ],
   "source": [
    "users.describe(include='all')"
   ]
  },
  {
   "cell_type": "code",
   "execution_count": null,
   "id": "ad18598d",
   "metadata": {},
   "outputs": [],
   "source": []
  }
 ],
 "metadata": {
  "kernelspec": {
   "display_name": "Python 3",
   "language": "python",
   "name": "python3"
  },
  "language_info": {
   "codemirror_mode": {
    "name": "ipython",
    "version": 3
   },
   "file_extension": ".py",
   "mimetype": "text/x-python",
   "name": "python",
   "nbconvert_exporter": "python",
   "pygments_lexer": "ipython3",
   "version": "3.6.13"
  }
 },
 "nbformat": 4,
 "nbformat_minor": 5
}
